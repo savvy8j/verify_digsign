{
 "cells": [
  {
   "cell_type": "code",
   "execution_count": 3,
   "id": "b994e28b",
   "metadata": {},
   "outputs": [
    {
     "name": "stdout",
     "output_type": "stream",
     "text": [
      "Enter the hash value (in hexadecimal): cb33ee563e8928a19adcb24ba48fd921a9f7fe2f6539587d9d9ea20fc19ec94\n",
      "Enter the signature: 3045022100e8e75d24547e86aca7843665e175420e468864a7edb34ac6231db07b3b9ed52502206cb77f36b54b5dc159e6766142678db002abf7a9142ec70a064a641f25c75a8a\n",
      "Enter the public key text (in hex or base64 format): MFYwEAYHKoZIzj0CAQYFK4EEAAoDQgAEDLIRZtmIg5bNSgoAFUiWgmBkWj4E+Vaf wwJQAQD61ytbLBq4vWkSoEqNBJPyGvldp80fHjhfsUELEP2B3n8loQ==\n"
     ]
    },
    {
     "ename": "ValueError",
     "evalue": "non-hexadecimal number found in fromhex() arg at position 63",
     "output_type": "error",
     "traceback": [
      "\u001b[1;31m---------------------------------------------------------------------------\u001b[0m",
      "\u001b[1;31mValueError\u001b[0m                                Traceback (most recent call last)",
      "Cell \u001b[1;32mIn[3], line 52\u001b[0m\n\u001b[0;32m     49\u001b[0m algorithm \u001b[38;5;241m=\u001b[39m \u001b[38;5;124m\"\u001b[39m\u001b[38;5;124mECDSA secp256k1\u001b[39m\u001b[38;5;124m\"\u001b[39m  \u001b[38;5;66;03m# Replace with the actual algorithm\u001b[39;00m\n\u001b[0;32m     51\u001b[0m \u001b[38;5;66;03m# Verify the signature\u001b[39;00m\n\u001b[1;32m---> 52\u001b[0m \u001b[38;5;28;01mif\u001b[39;00m verify_signature(\u001b[38;5;28mbytes\u001b[39m\u001b[38;5;241m.\u001b[39mfromhex(hash_value_hex), signature_input, public_key, algorithm):\n\u001b[0;32m     53\u001b[0m     \u001b[38;5;28mprint\u001b[39m(\u001b[38;5;124m\"\u001b[39m\u001b[38;5;124mSignature is valid.\u001b[39m\u001b[38;5;124m\"\u001b[39m)\n\u001b[0;32m     54\u001b[0m \u001b[38;5;28;01melse\u001b[39;00m:\n",
      "\u001b[1;31mValueError\u001b[0m: non-hexadecimal number found in fromhex() arg at position 63"
     ]
    }
   ],
   "source": [
    "from cryptography.hazmat.backends import default_backend\n",
    "from cryptography.hazmat.primitives import serialization, hashes\n",
    "from cryptography.hazmat.primitives.asymmetric import ec\n",
    "from cryptography.exceptions import InvalidSignature\n",
    "\n",
    "def load_public_key(public_key_text):\n",
    "    try:\n",
    "        # Construct PEM formatted public key string\n",
    "        pem_data = f\"-----BEGIN PUBLIC KEY-----\\n{public_key_text}\\n-----END PUBLIC KEY-----\\n\"\n",
    "        # Load PEM formatted public key\n",
    "        public_key = serialization.load_pem_public_key(pem_data.encode(), backend=default_backend())\n",
    "        return public_key\n",
    "    except Exception as e:\n",
    "        print(\"Error loading public key:\", e)\n",
    "        return None\n",
    "\n",
    "def verify_signature(hash_value, signature, public_key, algorithm):\n",
    "    backend = default_backend()\n",
    "    \n",
    "    if algorithm.startswith(\"ECDSA\"):\n",
    "        if \"secp256k1\" in algorithm:\n",
    "            hash_algorithm = hashes.SHA256()\n",
    "        else:\n",
    "            hash_algorithm = hashes.get_hash_algorithm_by_name(algorithm.split()[-1])()\n",
    "        try:\n",
    "            public_key.verify(signature, hash_value, ec.ECDSA(hash_algorithm))\n",
    "            return True\n",
    "        except InvalidSignature:\n",
    "            return False\n",
    "\n",
    "    # Add verification for other algorithms if needed...\n",
    "\n",
    "    else:\n",
    "        return False\n",
    "\n",
    "# Example usage:\n",
    "hash_value_hex = input(\"Enter the hash value (in hexadecimal): \")  # Input the hash value in hexadecimal\n",
    "signature_input = bytes.fromhex(input(\"Enter the signature: \"))  # Input the signature\n",
    "\n",
    "# Input the public key\n",
    "while True:\n",
    "    public_key_text = input(\"Enter the public key text (in hex or base64 format): \")\n",
    "    public_key = load_public_key(public_key_text)\n",
    "    if public_key:\n",
    "        break\n",
    "    else:\n",
    "        print(\"Invalid public key format. Please try again.\")\n",
    "\n",
    "algorithm = \"ECDSA secp256k1\"  # Replace with the actual algorithm\n",
    "\n",
    "# Verify the signature\n",
    "if verify_signature(bytes.fromhex(hash_value_hex), signature_input, public_key, algorithm):\n",
    "    print(\"Signature is valid.\")\n",
    "else:\n",
    "    print(\"Signature is invalid.\")"
   ]
  },
  {
   "cell_type": "code",
   "execution_count": null,
   "id": "5539f4b3",
   "metadata": {},
   "outputs": [],
   "source": []
  },
  {
   "cell_type": "code",
   "execution_count": null,
   "id": "a504f26e",
   "metadata": {},
   "outputs": [],
   "source": []
  }
 ],
 "metadata": {
  "kernelspec": {
   "display_name": "Python 3 (ipykernel)",
   "language": "python",
   "name": "python3"
  },
  "language_info": {
   "codemirror_mode": {
    "name": "ipython",
    "version": 3
   },
   "file_extension": ".py",
   "mimetype": "text/x-python",
   "name": "python",
   "nbconvert_exporter": "python",
   "pygments_lexer": "ipython3",
   "version": "3.11.5"
  }
 },
 "nbformat": 4,
 "nbformat_minor": 5
}
